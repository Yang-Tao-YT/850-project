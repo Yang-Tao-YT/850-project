{
 "cells": [
  {
   "cell_type": "code",
   "execution_count": 1,
   "metadata": {},
   "outputs": [
    {
     "data": {
      "text/plain": [
       "'/Users/yangtao/Documents/GitHub/850-project'"
      ]
     },
     "execution_count": 1,
     "metadata": {},
     "output_type": "execute_result"
    }
   ],
   "source": [
    "from Function.Function import *\n",
    "from os.path import abspath , join\n",
    "from sklearn.preprocessing import normalize ,LabelEncoder,StandardScaler\n",
    "from sklearn.decomposition import PCA \n",
    "from sklearn.ensemble import RandomForestClassifier\n",
    "from sklearn.model_selection import train_test_split\n",
    "from sklearn.linear_model import LogisticRegression\n",
    "from sklearn.linear_model import LinearRegression\n",
    "from sklearn.metrics import mean_squared_error\n",
    "from random import shuffle\n",
    "import matplotlib.pyplot  as plt\n",
    "current_folder =abspath('');current_folder\n",
    "\n"
   ]
  },
  {
   "cell_type": "markdown",
   "metadata": {},
   "source": [
    "# Preprocessing data"
   ]
  },
  {
   "cell_type": "code",
   "execution_count": 2,
   "metadata": {},
   "outputs": [],
   "source": [
    "N_calibrate = 0.8 #  days for train\n",
    "N_validation = 1 - N_calibrate # days for test\n",
    "# data = pd.read_csv('Data/finalproject_training.csv')\n",
    "data = pd.read_csv('Data/finalproject_training_xy.csv')"
   ]
  },
  {
   "cell_type": "code",
   "execution_count": 3,
   "metadata": {},
   "outputs": [],
   "source": [
    "# the xs that was cleaned for useless price data and non number data and NONE data(first check)\n",
    "data = data.loc[:,data.columns[12:]]\n",
    "data = data.loc[:,(np.array(data.dtypes == 'int64') ) | (np.array(data.dtypes == 'float64') )].dropna()\n",
    "# data = data.loc[:,(np.array(data.dtypes == 'int64') ) | (np.array(data.dtypes == 'float64') )].fillna(data.mean() ,axis = 0)"
   ]
  },
  {
   "cell_type": "code",
   "execution_count": 4,
   "metadata": {},
   "outputs": [],
   "source": [
    "# data = data.sample(frac=0.03 )"
   ]
  },
  {
   "cell_type": "code",
   "execution_count": 5,
   "metadata": {},
   "outputs": [
    {
     "name": "stdout",
     "output_type": "stream",
     "text": [
      "(2776, 71)\n"
     ]
    }
   ],
   "source": [
    "# separate X and Y\n",
    "X_data = data.iloc[:,:-1]\n",
    "Y_data = data.iloc[:,-1]\n",
    "print(X_data.shape)\n",
    "\n",
    "\n",
    "\n",
    "#normalization or standardlization(i did normalization here)\n",
    "# X_data = pd.DataFrame(normalize(X_data, axis=0) , columns = X_data.columns , index = X_data.index)\n",
    "X_data = pd.DataFrame(StandardScaler().fit_transform(X_data) , columns = X_data.columns , index = X_data.index)\n",
    "# calibrate and validation\n",
    "\n",
    "X_data ,Y_data = get_data(X_data,Y_data,N_calibrate , N_validation)\n",
    "X_data['calibrate']['processed'].columns\n",
    "# generate data of returns direction [-1,1] \n",
    "# -1 indicate negative returns, 1 indicate positive returns\n",
    "Y_data['calibrate']['direction'] = [-1 if i < 0 else 1 for i in Y_data['calibrate']['processed']]\n",
    "Y_data['validation']['direction'] = [-1 if i < 0 else 1 for i in Y_data['validation']['processed']]"
   ]
  },
  {
   "cell_type": "markdown",
   "metadata": {},
   "source": [
    "# Autoencoder or PCA ?"
   ]
  },
  {
   "cell_type": "markdown",
   "metadata": {},
   "source": [
    "# lets do Autoencoder with nerual network first"
   ]
  },
  {
   "cell_type": "markdown",
   "metadata": {},
   "source": [
    "# Construct model"
   ]
  },
  {
   "cell_type": "code",
   "execution_count": 6,
   "metadata": {},
   "outputs": [],
   "source": [
    "dimension_of_input  = len(X_data['calibrate']['processed'].T) # number of stock\n",
    "autoencoder = inital_model(dimension_of_input) # inital_model 具体initial的model在function文件里\n",
    "# train model\n",
    "# we use net difference to train model\n",
    "Autoencoder_data = np.array(X_data['calibrate']['processed']) \n",
    "# we use pre-trained model with best fit to save time\n",
    "\n",
    "autoencoder.fit(Autoencoder_data, Autoencoder_data, shuffle=False, epochs=500, batch_size = 10 , verbose = 0)\n",
    "autoencoder.save(join(current_folder,'Models/com_autoencoder_{}.h5'.format(1)))"
   ]
  },
  {
   "cell_type": "markdown",
   "metadata": {},
   "source": [
    "# Predict and see what the factors is most relevent and explain most variance\n",
    "# dimension reduction\n"
   ]
  },
  {
   "cell_type": "code",
   "execution_count": 7,
   "metadata": {
    "scrolled": false
   },
   "outputs": [
    {
     "data": {
      "text/html": [
       "<div>\n",
       "<style scoped>\n",
       "    .dataframe tbody tr th:only-of-type {\n",
       "        vertical-align: middle;\n",
       "    }\n",
       "\n",
       "    .dataframe tbody tr th {\n",
       "        vertical-align: top;\n",
       "    }\n",
       "\n",
       "    .dataframe thead th {\n",
       "        text-align: right;\n",
       "    }\n",
       "</style>\n",
       "<table border=\"1\" class=\"dataframe\">\n",
       "  <thead>\n",
       "    <tr style=\"text-align: right;\">\n",
       "      <th></th>\n",
       "      <th>communal</th>\n",
       "      <th>index</th>\n",
       "    </tr>\n",
       "  </thead>\n",
       "  <tbody>\n",
       "    <tr>\n",
       "      <th>0</th>\n",
       "      <td>60.117869</td>\n",
       "      <td>tfvceq</td>\n",
       "    </tr>\n",
       "    <tr>\n",
       "      <th>1</th>\n",
       "      <td>131.505767</td>\n",
       "      <td>atq</td>\n",
       "    </tr>\n",
       "    <tr>\n",
       "      <th>2</th>\n",
       "      <td>131.505767</td>\n",
       "      <td>lseq</td>\n",
       "    </tr>\n",
       "    <tr>\n",
       "      <th>3</th>\n",
       "      <td>138.682650</td>\n",
       "      <td>oibdpq</td>\n",
       "    </tr>\n",
       "    <tr>\n",
       "      <th>4</th>\n",
       "      <td>140.277309</td>\n",
       "      <td>oiadpq</td>\n",
       "    </tr>\n",
       "    <tr>\n",
       "      <th>...</th>\n",
       "      <td>...</td>\n",
       "      <td>...</td>\n",
       "    </tr>\n",
       "    <tr>\n",
       "      <th>66</th>\n",
       "      <td>1924.609410</td>\n",
       "      <td>fyearq</td>\n",
       "    </tr>\n",
       "    <tr>\n",
       "      <th>67</th>\n",
       "      <td>2008.134099</td>\n",
       "      <td>gsubind</td>\n",
       "    </tr>\n",
       "    <tr>\n",
       "      <th>68</th>\n",
       "      <td>2008.134294</td>\n",
       "      <td>gind</td>\n",
       "    </tr>\n",
       "    <tr>\n",
       "      <th>69</th>\n",
       "      <td>2008.162828</td>\n",
       "      <td>ggroup</td>\n",
       "    </tr>\n",
       "    <tr>\n",
       "      <th>70</th>\n",
       "      <td>2011.808165</td>\n",
       "      <td>gsector</td>\n",
       "    </tr>\n",
       "  </tbody>\n",
       "</table>\n",
       "<p>71 rows × 2 columns</p>\n",
       "</div>"
      ],
      "text/plain": [
       "       communal    index\n",
       "0     60.117869   tfvceq\n",
       "1    131.505767      atq\n",
       "2    131.505767     lseq\n",
       "3    138.682650   oibdpq\n",
       "4    140.277309   oiadpq\n",
       "..          ...      ...\n",
       "66  1924.609410   fyearq\n",
       "67  2008.134099  gsubind\n",
       "68  2008.134294     gind\n",
       "69  2008.162828   ggroup\n",
       "70  2011.808165  gsector\n",
       "\n",
       "[71 rows x 2 columns]"
      ]
     },
     "execution_count": 7,
     "metadata": {},
     "output_type": "execute_result"
    }
   ],
   "source": [
    "path = join(current_folder,'Models/com_autoencoder_{}.h5'.format(1))\n",
    "autoencoder = load_model(path)\n",
    "predict = autoencoder.predict(Autoencoder_data) \n",
    "# use different error measure to decide which factors explain most variance\n",
    "\n",
    "# we need to figure out what is the best error measure,?\n",
    "\n",
    "# sum absolute relative error\n",
    "communal_information = np.sum(np.absolute((Autoencoder_data - predict)),axis = 0) \n",
    "# ranking\n",
    "ranking = np.array(communal_information).argsort()\n",
    "ranks = pd.DataFrame({'communal' : communal_information[ranking] ,'index' : X_data['calibrate']['processed'].columns[ranking] })\n",
    "ranks"
   ]
  },
  {
   "cell_type": "markdown",
   "metadata": {},
   "source": [
    "### lower the communal_information,higer explaination"
   ]
  },
  {
   "cell_type": "markdown",
   "metadata": {},
   "source": [
    "### you can do prediction by using autoencoder directly. i can write it down if we decide to do it"
   ]
  },
  {
   "cell_type": "markdown",
   "metadata": {},
   "source": [
    "# Lets do PCA and backtest\n",
    "### from here you either use pca classifier or linear regression for prediction\n"
   ]
  },
  {
   "cell_type": "code",
   "execution_count": 19,
   "metadata": {},
   "outputs": [],
   "source": [
    "# number of factors that is used to do regression\n",
    "n_factors = [*range(10,len(X_data['calibrate']['processed'].columns)//2 + 1, 5 )] [::-1]\n",
    "# store mse of different method with different number of factors\n",
    "mse_pca_calibration = [] # mean squared errors of pca with calibration data\n",
    "mse_pca_validation = [] # mean squared errors of pca with validation data\n",
    "mse_lg_calibration = [] # mean squared errors of linear regression with calibration data\n",
    "mse_lg_validation = [] # mean squared errors of linear regression with validation data\n",
    "for k in n_factors:\n",
    "    # index of factors \n",
    "    # the top k factors combined with bottom k factors\n",
    "    index = list(X_data['calibrate']['processed'].columns[ranking[:k]]) + \\\n",
    "                 list(X_data['calibrate']['processed'].columns[ranking[-k:]])\n",
    "    # get X data\n",
    "    data = X_data['calibrate']['processed'].loc[:,index]\n",
    "\n",
    "\n",
    "    # using pca in LinearRegression\n",
    "    X = data\n",
    "    y = np.array(Y_data['calibrate']['processed'])\n",
    "    pca = PCA(n_components=2) #initial model\n",
    "    X_pca = pca.fit_transform(X) # pca decomposition\n",
    "\n",
    "    model_pca = LinearRegression()# initial predicition model\n",
    "    model_pca.fit(X_pca,y) # fit model\n",
    "\n",
    "    # record mse\n",
    "    mse_pca_calibration.append(mean_squared_error(model_pca.predict(X_pca),y))\n",
    "    # out of sample-validation\n",
    "    # get validation X data and Y data\n",
    "    X_test =  np.array(X_data['validation']['processed'].loc[:,index]) \n",
    "    X_test_pca = pca.fit_transform(X_test)\n",
    "    y_test = np.array(Y_data['validation']['processed'])\n",
    "\n",
    "    # record mse(validation)\n",
    "    mse_pca_validation.append(mean_squared_error(model_pca.predict(X_test_pca),y_test))\n",
    "\n",
    "    ## compare with the performance of linear regression without PCA\n",
    "\n",
    "    model = LinearRegression()# initial predicition model\n",
    "    model.fit(X,y) # fit model\n",
    "    # record mse\n",
    "    mse_lg_calibration.append(mean_squared_error(model.predict(X),y)\n",
    "    mse_lg_validation.append(mean_squared_error(model.predict(X_test),y_test))"
   ]
  },
  {
   "cell_type": "code",
   "execution_count": 20,
   "metadata": {},
   "outputs": [
    {
     "data": {
      "text/html": [
       "<div>\n",
       "<style scoped>\n",
       "    .dataframe tbody tr th:only-of-type {\n",
       "        vertical-align: middle;\n",
       "    }\n",
       "\n",
       "    .dataframe tbody tr th {\n",
       "        vertical-align: top;\n",
       "    }\n",
       "\n",
       "    .dataframe thead th {\n",
       "        text-align: right;\n",
       "    }\n",
       "</style>\n",
       "<table border=\"1\" class=\"dataframe\">\n",
       "  <thead>\n",
       "    <tr style=\"text-align: right;\">\n",
       "      <th></th>\n",
       "      <th>mse_pca_calibration</th>\n",
       "      <th>mse_pca_validation</th>\n",
       "      <th>mse_lg_calibration</th>\n",
       "      <th>mse_lg_validation</th>\n",
       "    </tr>\n",
       "  </thead>\n",
       "  <tbody>\n",
       "    <tr>\n",
       "      <th>35</th>\n",
       "      <td>0.010615</td>\n",
       "      <td>0.008590</td>\n",
       "      <td>0.009825</td>\n",
       "      <td>0.015701</td>\n",
       "    </tr>\n",
       "    <tr>\n",
       "      <th>30</th>\n",
       "      <td>0.010615</td>\n",
       "      <td>0.008589</td>\n",
       "      <td>0.009850</td>\n",
       "      <td>0.011679</td>\n",
       "    </tr>\n",
       "    <tr>\n",
       "      <th>25</th>\n",
       "      <td>0.010615</td>\n",
       "      <td>0.008576</td>\n",
       "      <td>0.009912</td>\n",
       "      <td>0.012071</td>\n",
       "    </tr>\n",
       "    <tr>\n",
       "      <th>20</th>\n",
       "      <td>0.010615</td>\n",
       "      <td>0.008577</td>\n",
       "      <td>0.009960</td>\n",
       "      <td>0.008656</td>\n",
       "    </tr>\n",
       "    <tr>\n",
       "      <th>15</th>\n",
       "      <td>0.010615</td>\n",
       "      <td>0.008576</td>\n",
       "      <td>0.009986</td>\n",
       "      <td>0.008356</td>\n",
       "    </tr>\n",
       "    <tr>\n",
       "      <th>10</th>\n",
       "      <td>0.010438</td>\n",
       "      <td>0.009080</td>\n",
       "      <td>0.010114</td>\n",
       "      <td>0.008241</td>\n",
       "    </tr>\n",
       "  </tbody>\n",
       "</table>\n",
       "</div>"
      ],
      "text/plain": [
       "    mse_pca_calibration  mse_pca_validation  mse_lg_calibration  \\\n",
       "35             0.010615            0.008590            0.009825   \n",
       "30             0.010615            0.008589            0.009850   \n",
       "25             0.010615            0.008576            0.009912   \n",
       "20             0.010615            0.008577            0.009960   \n",
       "15             0.010615            0.008576            0.009986   \n",
       "10             0.010438            0.009080            0.010114   \n",
       "\n",
       "    mse_lg_validation  \n",
       "35           0.015701  \n",
       "30           0.011679  \n",
       "25           0.012071  \n",
       "20           0.008656  \n",
       "15           0.008356  \n",
       "10           0.008241  "
      ]
     },
     "execution_count": 20,
     "metadata": {},
     "output_type": "execute_result"
    }
   ],
   "source": [
    "# present mse\n",
    "mse = {'mse_pca_calibration' : mse_pca_calibration, 'mse_pca_validation' : mse_pca_validation, \\\n",
    "                   'mse_lg_calibration' : mse_lg_calibration, 'mse_lg_validation' : mse_lg_validation}\n",
    "mse_dt = pd.DataFrame(mse , index = n_factors)\n",
    "mse_dt"
   ]
  },
  {
   "cell_type": "code",
   "execution_count": 21,
   "metadata": {},
   "outputs": [
    {
     "data": {
      "image/png": "[encoded data removed]",
      "text/plain": [
       "<Figure size 432x288 with 1 Axes>"
      ]
     },
     "metadata": {
      "needs_background": "light"
     },
     "output_type": "display_data"
    }
   ],
   "source": [
    "mse_dt.plot(use_index = False)\n",
    "plt.xticks(range(len(n_factors)),np.array(n_factors)*2)\n",
    "plt.xlabel('number of factors_autoencoder')\n",
    "plt.ylabel('MSE',rotation = 45)\n",
    "plt.title('MSE and Autoencoder')\n",
    "plt.show()"
   ]
  },
  {
   "cell_type": "code",
   "execution_count": 16,
   "metadata": {},
   "outputs": [],
   "source": [
    "accurcy_pca_calibrate = []\n",
    "accurcy_pca_validation = []\n",
    "accurcy_lg_calibrate = []\n",
    "accurcy_lg_validation = []\n",
    "for k in n_factors:\n",
    "    index = list(X_data['calibrate']['processed'].columns[ranking[:k]]) + \\\n",
    "             list(X_data['calibrate']['processed'].columns[ranking[-k:]])\n",
    "    data = X_data['calibrate']['processed'].loc[:,index]\n",
    "    rf = LogisticRegression()\n",
    "    X = data\n",
    "    y = Y_data['calibrate']['direction']\n",
    "    pca = PCA(n_components=2) #initial model\n",
    "    X_pca = pca.fit_transform(X) # pca decomposition\n",
    "\n",
    "    rf.fit(X_pca,y)\n",
    "\n",
    "    accurcy_pca_calibrate.append(rf.score(X_pca,y))\n",
    "\n",
    "    X_test =  np.array(X_data['validation']['processed'].loc[:,index]) \n",
    "    X_test_pca = pca.fit_transform(X_test)\n",
    "    y_test = Y_data['validation']['direction']\n",
    "\n",
    "    accurcy_pca_validation.append(rf.score(X_test_pca,y_test))\n",
    "    \n",
    "    model = LinearRegression()# initial predicition model\n",
    "    model.fit(X,y)\n",
    "\n",
    "    accurcy_lg_calibrate.append(sum(np.array([-1 if i < 0 else 1 for i in model.predict(X)]) == y )/ len(y))\n",
    "\n",
    "    accurcy_lg_validation.append(sum(np.array([-1 if i < 0 else 1 for i in model.predict(X_test)])  == y_test )/ len(y_test))"
   ]
  },
  {
   "cell_type": "code",
   "execution_count": 17,
   "metadata": {},
   "outputs": [
    {
     "data": {
      "text/plain": [
       "[0.5323741007194245,\n",
       " 0.5323741007194245,\n",
       " 0.5305755395683454,\n",
       " 0.5305755395683454,\n",
       " 0.5305755395683454,\n",
       " 0.5305755395683454]"
      ]
     },
     "execution_count": 17,
     "metadata": {},
     "output_type": "execute_result"
    }
   ],
   "source": [
    "accurcy_pca_validation"
   ]
  },
  {
   "cell_type": "code",
   "execution_count": 18,
   "metadata": {},
   "outputs": [
    {
     "data": {
      "text/plain": [
       "[0.5449640287769785,\n",
       " 0.5665467625899281,\n",
       " 0.5701438848920863,\n",
       " 0.5665467625899281,\n",
       " 0.5539568345323741,\n",
       " 0.5629496402877698]"
      ]
     },
     "execution_count": 18,
     "metadata": {},
     "output_type": "execute_result"
    }
   ],
   "source": [
    "accurcy_lg_validation"
   ]
  },
  {
   "cell_type": "code",
   "execution_count": 14,
   "metadata": {},
   "outputs": [
    {
     "name": "stdout",
     "output_type": "stream",
     "text": [
      "0.5539568345323741\n",
      "2\n"
     ]
    },
    {
     "data": {
      "image/png": "[encoded data removed]",
      "text/plain": [
       "<Figure size 432x288 with 1 Axes>"
      ]
     },
     "metadata": {
      "needs_background": "light"
     },
     "output_type": "display_data"
    }
   ],
   "source": [
    "n_components = range(1,40,1)\n",
    "\n",
    "k = 20\n",
    "index = list(X_data['calibrate']['processed'].columns[ranking[:k]]) + \\\n",
    "         list(X_data['calibrate']['processed'].columns[ranking[-k:]])\n",
    "data = X_data['calibrate']['processed'].loc[:,index]\n",
    "\n",
    "X_test =  np.array(X_data['validation']['processed'].loc[:,index]) \n",
    "\n",
    "y_test = Y_data['validation']['direction']\n",
    "accurcy_pca_calibrate = []\n",
    "accurcy_pca_validation = []\n",
    "\n",
    "for s in n_components:\n",
    "    rf = RandomForestClassifier()\n",
    "    X = data\n",
    "    y = Y_data['calibrate']['direction']\n",
    "    pca = PCA(n_components=s) #initial model\n",
    "    X_pca = pca.fit_transform(X) # pca decomposition\n",
    "    X_test_pca = pca.fit_transform(X_test)\n",
    "    rf.fit(X_pca,y)\n",
    "\n",
    "    accurcy_pca_calibrate.append(rf.score(X_pca,y))\n",
    "    accurcy_pca_validation.append(rf.score(X_test_pca,y_test))\n",
    "\n",
    "\n",
    "plt.plot(accurcy_pca_validation)\n",
    "\n",
    "\n",
    "\n",
    "print(max(accurcy_pca_validation))\n",
    "print(accurcy_pca_validation.index(max(accurcy_pca_validation)))"
   ]
  }
 ],
 "metadata": {
  "kernelspec": {
   "display_name": "Python 3",
   "language": "python",
   "name": "python3"
  },
  "language_info": {
   "codemirror_mode": {
    "name": "ipython",
    "version": 3
   },
   "file_extension": ".py",
   "mimetype": "text/x-python",
   "name": "python",
   "nbconvert_exporter": "python",
   "pygments_lexer": "ipython3",
   "version": "3.7.6"
  },
  "varInspector": {
   "cols": {
    "lenName": 16,
    "lenType": 16,
    "lenVar": 40
   },
   "kernels_config": {
    "python": {
     "delete_cmd_postfix": "",
     "delete_cmd_prefix": "del ",
     "library": "var_list.py",
     "varRefreshCmd": "print(var_dic_list())"
    },
    "r": {
     "delete_cmd_postfix": ") ",
     "delete_cmd_prefix": "rm(",
     "library": "var_list.r",
     "varRefreshCmd": "cat(var_dic_list()) "
    }
   },
   "types_to_exclude": [
    "module",
    "function",
    "builtin_function_or_method",
    "instance",
    "_Feature"
   ],
   "window_display": false
  }
 },
 "nbformat": 4,
 "nbformat_minor": 4
}
